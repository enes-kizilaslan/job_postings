{
 "cells": [
  {
   "cell_type": "code",
   "execution_count": 1,
   "id": "16ac7a44",
   "metadata": {},
   "outputs": [],
   "source": [
    "import pandas as pd\n",
    "import numpy as np"
   ]
  },
  {
   "cell_type": "code",
   "execution_count": 4,
   "id": "298ea98f",
   "metadata": {},
   "outputs": [],
   "source": [
    "with open('resume.txt') as f:\n",
    "    lines = f.readlines()"
   ]
  },
  {
   "cell_type": "code",
   "execution_count": 5,
   "id": "cae777e4",
   "metadata": {},
   "outputs": [
    {
     "data": {
      "text/plain": [
       "['Experience\\n',\n",
       " '\\n',\n",
       " '1. Developed probability simulations using NumPy.\\n',\n",
       " '2. Assessed online ad-clicks for statistical significance using Permutation testing.\\n',\n",
       " '3. Analyzed disease outbreaks using common clustering algorithms.\\n',\n",
       " '\\n',\n",
       " 'Additional Skills\\n',\n",
       " '\\n',\n",
       " '1. Data visualization using Matplotlib.\\n',\n",
       " '2. Statistical analysis using SciPy.\\n',\n",
       " '3. Processing structured tables using Pandas.\\n',\n",
       " '4. Executing K-Means clustering and DBSCAN clustering using Scikit-Learn.\\n',\n",
       " '5. Extracting locations from text using GeonamesCache.\\n',\n",
       " '6. Location analysis and visualization using GeonamesCache and Basemap.\\n',\n",
       " '7. Dimensionality reduction with PCA and SVD, using Scikit-Learn.\\n',\n",
       " '8. NLP analysis and text topic detection using Scikit-Learn.']"
      ]
     },
     "execution_count": 5,
     "metadata": {},
     "output_type": "execute_result"
    }
   ],
   "source": [
    "lines"
   ]
  },
  {
   "cell_type": "code",
   "execution_count": null,
   "id": "7695fca1",
   "metadata": {},
   "outputs": [],
   "source": []
  }
 ],
 "metadata": {
  "kernelspec": {
   "display_name": "Python 3 (ipykernel)",
   "language": "python",
   "name": "python3"
  },
  "language_info": {
   "codemirror_mode": {
    "name": "ipython",
    "version": 3
   },
   "file_extension": ".py",
   "mimetype": "text/x-python",
   "name": "python",
   "nbconvert_exporter": "python",
   "pygments_lexer": "ipython3",
   "version": "3.10.6"
  }
 },
 "nbformat": 4,
 "nbformat_minor": 5
}
